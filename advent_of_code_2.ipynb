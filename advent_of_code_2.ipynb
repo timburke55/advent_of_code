{
  "nbformat": 4,
  "nbformat_minor": 0,
  "metadata": {
    "colab": {
      "name": "advent_of_code_2.ipynb",
      "provenance": [],
      "authorship_tag": "ABX9TyP+zahYJ9nz1C6iRqsNRLmy",
      "include_colab_link": true
    },
    "kernelspec": {
      "name": "python3",
      "display_name": "Python 3"
    }
  },
  "cells": [
    {
      "cell_type": "markdown",
      "metadata": {
        "id": "view-in-github",
        "colab_type": "text"
      },
      "source": [
        "<a href=\"https://colab.research.google.com/github/timburke55/advent_of_code/blob/main/advent_of_code_2.ipynb\" target=\"_parent\"><img src=\"https://colab.research.google.com/assets/colab-badge.svg\" alt=\"Open In Colab\"/></a>"
      ]
    },
    {
      "cell_type": "code",
      "metadata": {
        "id": "PN226qFPUnVh"
      },
      "source": [
        "\n"
      ],
      "execution_count": null,
      "outputs": []
    },
    {
      "cell_type": "code",
      "metadata": {
        "id": "ITUDMDsSYP29"
      },
      "source": [
        "from google.colab import drive \n",
        "drive.mount('/content/drive')\n",
        "%cd /content/drive/My\\ Drive/Advent\\ of\\ Code\\ 2020/02\n",
        "\n",
        "import pandas as pd"
      ],
      "execution_count": null,
      "outputs": []
    },
    {
      "cell_type": "code",
      "metadata": {
        "id": "FL3JOFfBUqg0"
      },
      "source": [
        "passwords = pd.read_csv('advent_of_code_2_input.txt', sep='-| |: ', header = None, engine = 'python')\n",
        "\n",
        "passwords\n"
      ],
      "execution_count": null,
      "outputs": []
    },
    {
      "cell_type": "code",
      "metadata": {
        "id": "2j37N-oURkvQ"
      },
      "source": [
        "valid_passwords1 = 0\n",
        "\n",
        "for index, row in passwords.iterrows():\n",
        "  if row[3].count(row[2]) >= row[0] and row[3].count(row[2]) <= row[1]:\n",
        "   valid_passwords = valid_passwords + 1\n",
        "\n",
        "print(valid_passwords1)\n"
      ],
      "execution_count": null,
      "outputs": []
    },
    {
      "cell_type": "code",
      "metadata": {
        "id": "Mav8-DlSUiGU"
      },
      "source": [
        "valid_passwords2 = 0\n",
        "\n",
        "for index, row in passwords.iterrows():\n",
        "  check1 = 0\n",
        "  check2 = 0\n",
        "  if row[3][row[0]-1] == row[2]:\n",
        "    check1 = 1\n",
        " \n",
        "  if row[3][row[1]-1] == row[2]:\n",
        "    check2 = 1\n",
        "  if check1 + check2 == 1:\n",
        "    valid_passwords2 = valid_passwords2 + 1\n",
        "\n",
        "print(valid_passwords2)"
      ],
      "execution_count": null,
      "outputs": []
    }
  ]
}