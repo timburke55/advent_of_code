{
  "nbformat": 4,
  "nbformat_minor": 0,
  "metadata": {
    "colab": {
      "name": "advent_of_code_2.ipynb",
      "provenance": [],
      "authorship_tag": "ABX9TyO5gY1hkPhdGFwSVEDbFaCz",
      "include_colab_link": true
    },
    "kernelspec": {
      "name": "python3",
      "display_name": "Python 3"
    }
  },
  "cells": [
    {
      "cell_type": "markdown",
      "metadata": {
        "id": "view-in-github",
        "colab_type": "text"
      },
      "source": [
        "<a href=\"https://colab.research.google.com/github/timburke55/advent_of_code/blob/main/advent_of_code_2.ipynb\" target=\"_parent\"><img src=\"https://colab.research.google.com/assets/colab-badge.svg\" alt=\"Open In Colab\"/></a>"
      ]
    },
    {
      "cell_type": "code",
      "metadata": {
        "id": "PN226qFPUnVh"
      },
      "source": [
        "import pandas as pd\n"
      ],
      "execution_count": 1,
      "outputs": []
    },
    {
      "cell_type": "code",
      "metadata": {
        "colab": {
          "base_uri": "https://localhost:8080/"
        },
        "id": "ITUDMDsSYP29",
        "outputId": "03a9fdf3-6a04-45e5-fa08-dd1415d3c7e8"
      },
      "source": [
        "from google.colab import drive \n",
        "drive.mount('/content/drive')\n",
        "%cd /content/drive/My\\ Drive/Advent\\ of\\ Code\\ 2020/02"
      ],
      "execution_count": 8,
      "outputs": [
        {
          "output_type": "stream",
          "text": [
            "Mounted at /content/drive\n",
            "/content/drive/My Drive/Advent of Code 2020/02\n"
          ],
          "name": "stdout"
        }
      ]
    },
    {
      "cell_type": "code",
      "metadata": {
        "colab": {
          "base_uri": "https://localhost:8080/",
          "height": 481
        },
        "id": "FL3JOFfBUqg0",
        "outputId": "6697ba8c-dcd6-424d-cd57-909fdb5c7184"
      },
      "source": [
        "passwords = pd.read_csv('advent_of_code_2_input.txt', sep='-| |: ', header = None, engine = 'python')\n",
        "\n",
        "passwords\n"
      ],
      "execution_count": 10,
      "outputs": [
        {
          "output_type": "stream",
          "text": [
            "/usr/local/lib/python3.6/dist-packages/ipykernel_launcher.py:1: ParserWarning: Falling back to the 'python' engine because the 'c' engine does not support regex separators (separators > 1 char and different from '\\s+' are interpreted as regex); you can avoid this warning by specifying engine='python'.\n",
            "  \"\"\"Entry point for launching an IPython kernel.\n"
          ],
          "name": "stderr"
        },
        {
          "output_type": "execute_result",
          "data": {
            "text/html": [
              "<div>\n",
              "<style scoped>\n",
              "    .dataframe tbody tr th:only-of-type {\n",
              "        vertical-align: middle;\n",
              "    }\n",
              "\n",
              "    .dataframe tbody tr th {\n",
              "        vertical-align: top;\n",
              "    }\n",
              "\n",
              "    .dataframe thead th {\n",
              "        text-align: right;\n",
              "    }\n",
              "</style>\n",
              "<table border=\"1\" class=\"dataframe\">\n",
              "  <thead>\n",
              "    <tr style=\"text-align: right;\">\n",
              "      <th></th>\n",
              "      <th>0</th>\n",
              "      <th>1</th>\n",
              "      <th>2</th>\n",
              "      <th>3</th>\n",
              "    </tr>\n",
              "  </thead>\n",
              "  <tbody>\n",
              "    <tr>\n",
              "      <th>0</th>\n",
              "      <td>9</td>\n",
              "      <td>11</td>\n",
              "      <td>p</td>\n",
              "      <td>pppppppppxblp</td>\n",
              "    </tr>\n",
              "    <tr>\n",
              "      <th>1</th>\n",
              "      <td>2</td>\n",
              "      <td>4</td>\n",
              "      <td>b</td>\n",
              "      <td>bbxbb</td>\n",
              "    </tr>\n",
              "    <tr>\n",
              "      <th>2</th>\n",
              "      <td>3</td>\n",
              "      <td>5</td>\n",
              "      <td>q</td>\n",
              "      <td>dqfqb</td>\n",
              "    </tr>\n",
              "    <tr>\n",
              "      <th>3</th>\n",
              "      <td>5</td>\n",
              "      <td>8</td>\n",
              "      <td>g</td>\n",
              "      <td>ggcgggglg</td>\n",
              "    </tr>\n",
              "    <tr>\n",
              "      <th>4</th>\n",
              "      <td>10</td>\n",
              "      <td>18</td>\n",
              "      <td>l</td>\n",
              "      <td>gllpmlgtrmnllhllrlll</td>\n",
              "    </tr>\n",
              "    <tr>\n",
              "      <th>...</th>\n",
              "      <td>...</td>\n",
              "      <td>...</td>\n",
              "      <td>...</td>\n",
              "      <td>...</td>\n",
              "    </tr>\n",
              "    <tr>\n",
              "      <th>995</th>\n",
              "      <td>10</td>\n",
              "      <td>12</td>\n",
              "      <td>t</td>\n",
              "      <td>hnjdfgrhtgkl</td>\n",
              "    </tr>\n",
              "    <tr>\n",
              "      <th>996</th>\n",
              "      <td>2</td>\n",
              "      <td>4</td>\n",
              "      <td>d</td>\n",
              "      <td>dbddddc</td>\n",
              "    </tr>\n",
              "    <tr>\n",
              "      <th>997</th>\n",
              "      <td>13</td>\n",
              "      <td>14</td>\n",
              "      <td>g</td>\n",
              "      <td>gggggggbgggmgmgm</td>\n",
              "    </tr>\n",
              "    <tr>\n",
              "      <th>998</th>\n",
              "      <td>4</td>\n",
              "      <td>12</td>\n",
              "      <td>r</td>\n",
              "      <td>rrrzrgkrrrrkr</td>\n",
              "    </tr>\n",
              "    <tr>\n",
              "      <th>999</th>\n",
              "      <td>14</td>\n",
              "      <td>17</td>\n",
              "      <td>n</td>\n",
              "      <td>nnhnnnnnnnnnnnnnhnn</td>\n",
              "    </tr>\n",
              "  </tbody>\n",
              "</table>\n",
              "<p>1000 rows × 4 columns</p>\n",
              "</div>"
            ],
            "text/plain": [
              "      0   1  2                     3\n",
              "0     9  11  p         pppppppppxblp\n",
              "1     2   4  b                 bbxbb\n",
              "2     3   5  q                 dqfqb\n",
              "3     5   8  g             ggcgggglg\n",
              "4    10  18  l  gllpmlgtrmnllhllrlll\n",
              "..   ..  .. ..                   ...\n",
              "995  10  12  t          hnjdfgrhtgkl\n",
              "996   2   4  d               dbddddc\n",
              "997  13  14  g      gggggggbgggmgmgm\n",
              "998   4  12  r         rrrzrgkrrrrkr\n",
              "999  14  17  n   nnhnnnnnnnnnnnnnhnn\n",
              "\n",
              "[1000 rows x 4 columns]"
            ]
          },
          "metadata": {
            "tags": []
          },
          "execution_count": 10
        }
      ]
    },
    {
      "cell_type": "code",
      "metadata": {
        "colab": {
          "base_uri": "https://localhost:8080/"
        },
        "id": "2j37N-oURkvQ",
        "outputId": "2e7c92d8-b98b-4416-d92a-3f51acf3a3df"
      },
      "source": [
        "valid_passwords1 = 0\n",
        "\n",
        "for index, row in passwords.iterrows():\n",
        "  if row[3].count(row[2]) >= row[0] and row[3].count(row[2]) <= row[1]:\n",
        "   valid_passwords = valid_passwords + 1\n",
        "\n",
        "print(valid_passwords1)\n"
      ],
      "execution_count": 21,
      "outputs": [
        {
          "output_type": "stream",
          "text": [
            "628\n"
          ],
          "name": "stdout"
        }
      ]
    },
    {
      "cell_type": "code",
      "metadata": {
        "colab": {
          "base_uri": "https://localhost:8080/"
        },
        "id": "Mav8-DlSUiGU",
        "outputId": "a59917bc-030b-408a-b613-e55436e2494a"
      },
      "source": [
        "valid_passwords2 = 0\n",
        "\n",
        "for index, row in passwords.iterrows():\n",
        "  check1 = 0\n",
        "  check2 = 0\n",
        "  if row[3][row[0]-1] == row[2]:\n",
        "    check1 = 1\n",
        " \n",
        "  if row[3][row[1]-1] == row[2]:\n",
        "    check2 = 1\n",
        "  if check1 + check2 == 1:\n",
        "    valid_passwords2 = valid_passwords2 + 1\n",
        "\n",
        "print(valid_passwords2)"
      ],
      "execution_count": 35,
      "outputs": [
        {
          "output_type": "stream",
          "text": [
            "705\n"
          ],
          "name": "stdout"
        }
      ]
    }
  ]
}