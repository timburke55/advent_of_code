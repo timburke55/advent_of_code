{
  "nbformat": 4,
  "nbformat_minor": 0,
  "metadata": {
    "colab": {
      "name": "advent_of_code_1.ipynb",
      "provenance": [],
      "authorship_tag": "ABX9TyPwwsx+U4UaD8+ewDrKEvET",
      "include_colab_link": true
    },
    "kernelspec": {
      "name": "python3",
      "display_name": "Python 3"
    }
  },
  "cells": [
    {
      "cell_type": "markdown",
      "metadata": {
        "id": "view-in-github",
        "colab_type": "text"
      },
      "source": [
        "<a href=\"https://colab.research.google.com/github/timburke55/advent_of_code/blob/main/advent_of_code_1.ipynb\" target=\"_parent\"><img src=\"https://colab.research.google.com/assets/colab-badge.svg\" alt=\"Open In Colab\"/></a>"
      ]
    },
    {
      "cell_type": "code",
      "metadata": {
        "id": "r_Kddyq64FGq"
      },
      "source": [
        "from google.colab import drive \n",
        "drive.mount('/content/drive')\n",
        "%cd /content/drive/My\\ Drive/Advent\\ of\\ Code\\ 2020/01"
      ],
      "execution_count": null,
      "outputs": []
    },
    {
      "cell_type": "code",
      "metadata": {
        "id": "WJ2FNLHc6ru6"
      },
      "source": [
        "expenses =[] \n",
        "for e in open(\"aoc_puzzle_1_input.txt\"):\n",
        "    e=int(e.strip())\n",
        "    expenses.append(e)\n",
        "part1 = 0\n",
        "\n",
        "for a in expenses:\n",
        "    for b in expenses:\n",
        "        if a+b==2020:\n",
        "            part1=a*b\n",
        "        \n",
        "print(part1)\n",
        "\n",
        "part2 = 0\n",
        "for a in expenses:\n",
        "  for b in expenses:\n",
        "    for c in expenses:\n",
        "      if a+b+c==2020:\n",
        "         part2=a*b*c\n",
        "print(part2)"
      ],
      "execution_count": null,
      "outputs": []
    }
  ]
}